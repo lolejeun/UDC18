{
 "cells": [
  {
   "cell_type": "markdown",
   "metadata": {},
   "source": [
    "# UDC - Hackathon Urban Data Challenge \n",
    "## Emotions\n"
   ]
  },
  {
   "cell_type": "markdown",
   "metadata": {},
   "source": [
    "### Ressources"
   ]
  },
  {
   "cell_type": "code",
   "execution_count": 8,
   "metadata": {},
   "outputs": [],
   "source": [
    "import math\n",
    "import numpy\n",
    "\n",
    "x_pi = 3.14159265358979324*3000/180\n",
    "pi = 3.1415926535897932384626\n",
    "a = 6378245.0\n",
    "ee = 0.00669342162296594323\n",
    "\n",
    "def GCJ02toWGS84LNG(lng, lat):\n",
    "   # if out_of_china(lng, lat):\n",
    "    #    return lng, lat\n",
    "    dlat = transformlat(lng - 105.0, lat - 35.0)\n",
    "    dlng = transformlng(lng - 105.0, lat - 35.0)\n",
    "    radlat = lat / 180.0 * pi\n",
    "    magic = numpy.sin(radlat)\n",
    "    magic = 1 - ee * magic * magic\n",
    "    sqrtmagic = numpy.sqrt(magic)\n",
    "    dlat = (dlat * 180.0) / ((a * (1 - ee)) / (magic * sqrtmagic) * pi)\n",
    "    dlng = (dlng * 180.0) / (a / sqrtmagic * numpy.cos(radlat) * pi)\n",
    "    mglat = lat + dlat\n",
    "    mglng = lng + dlng\n",
    "    return lng * 2 - mglng\n",
    "\n",
    "def GCJ02toWGS84LAT(lng, lat):\n",
    "   # if out_of_china(lng, lat):\n",
    "    #    return lng, lat\n",
    "    dlat = transformlat(lng - 105.0, lat - 35.0)\n",
    "    dlng = transformlng(lng - 105.0, lat - 35.0)\n",
    "    radlat = lat / 180.0 * pi\n",
    "    magic = numpy.sin(radlat)\n",
    "    magic = 1 - ee * magic * magic\n",
    "    sqrtmagic = numpy.sqrt(magic)\n",
    "    dlat = (dlat * 180.0) / ((a * (1 - ee)) / (magic * sqrtmagic) * pi)\n",
    "    dlng = (dlng * 180.0) / (a / sqrtmagic * numpy.cos(radlat) * pi)\n",
    "    mglat = lat + dlat\n",
    "    mglng = lng + dlng\n",
    "    return lat * 2 - mglat\n",
    "\n",
    "def transformlat(lng, lat):\n",
    "    ret = -100.0 + 2.0 * lng + 3.0 * lat + 0.2 * lat * lat + \\\n",
    "        0.1 * lng * lat + 0.2 * numpy.sqrt(numpy.fabs(lng))\n",
    "    ret += (20.0 * numpy.sin(6.0 * lng * pi) + 20.0 *\n",
    "            numpy.sin(2.0 * lng * pi)) * 2.0 / 3.0\n",
    "    ret += (20.0 * numpy.sin(lat * pi) + 40.0 *\n",
    "            numpy.sin(lat / 3.0 * pi)) * 2.0 / 3.0\n",
    "    ret += (160.0 * numpy.sin(lat / 12.0 * pi) + 320 *\n",
    "            numpy.sin(lat * pi / 30.0)) * 2.0 / 3.0\n",
    "    return ret\n",
    " \n",
    "def transformlng(lng, lat):\n",
    "    ret = 300.0 + lng + 2.0 * lat + 0.1 * lng * lng + \\\n",
    "        0.1 * lng * lat + 0.1 * numpy.sqrt(numpy.fabs(lng))\n",
    "    ret += (20.0 * numpy.sin(6.0 * lng * pi) + 20.0 *\n",
    "            numpy.sin(2.0 * lng * pi)) * 2.0 / 3.0\n",
    "    ret += (20.0 * numpy.sin(lng * pi) + 40.0 *\n",
    "            numpy.sin(lng / 3.0 * pi)) * 2.0 / 3.0\n",
    "    ret += (150.0 * numpy.sin(lng / 12.0 * pi) + 300.0 *\n",
    "            numpy.sin(lng / 30.0 * pi)) * 2.0 / 3.0\n",
    "    return ret\n",
    " \n",
    "def out_of_china(lng, lat):\n",
    "    return not (lng > 73.66 and lng < 135.05 and lat > 3.86 and lat < 53.55)"
   ]
  },
  {
   "cell_type": "code",
   "execution_count": 9,
   "metadata": {},
   "outputs": [],
   "source": [
    "from functools import reduce\n",
    "def first_score(score):\n",
    "    score = score.values[0].split(',')[0]\n",
    "    #print (reduce(lambda x, y: x + y, score) / len(score))\n",
    "    print(score)"
   ]
  },
  {
   "cell_type": "markdown",
   "metadata": {},
   "source": [
    "### Import database"
   ]
  },
  {
   "cell_type": "code",
   "execution_count": 10,
   "metadata": {},
   "outputs": [],
   "source": [
    "import sqlite3\n",
    "\n",
    "#connection\n",
    "#path = 'C:\\Users\\lolal\\Documents\\Shanghai\\Hackathon\\UTSEUS-shanghai-dianping.db'\n",
    "conn = sqlite3.connect('UTSEUS-shanghai-dianping.db')\n",
    "c = conn.cursor()\n",
    "\n",
    "#request \n",
    "c.execute('SELECT name, latitude, longitude, avg_rating, category, avg_price, address FROM venues, venue_categories WHERE venues.business_id = venue_categories.business_id')\n",
    "venues = c.fetchall()\n"
   ]
  },
  {
   "cell_type": "code",
   "execution_count": 11,
   "metadata": {},
   "outputs": [],
   "source": [
    "conn = sqlite3.connect('UTSEUS-shanghai-weibo-2012.db')\n",
    "c = conn.cursor()\n",
    "\n",
    "c.execute('SELECT name, latitude, longitude, scores, category, price FROM dianping_shop')\n",
    "shops = c.fetchall()"
   ]
  },
  {
   "cell_type": "markdown",
   "metadata": {},
   "source": [
    "### Make Dataframe"
   ]
  },
  {
   "cell_type": "code",
   "execution_count": 12,
   "metadata": {},
   "outputs": [],
   "source": [
    "import pandas as pd \n",
    "labelsD= ['name','latitude', 'longitude', 'scores','category', 'price', 'address']\n",
    "labelsW = ['name','latitude', 'longitude', 'scores','category', 'price']\n",
    "\n",
    "df_Dianping = pd.DataFrame.from_records(venues, columns=labelsD)\n",
    "df_Weibo = pd.DataFrame.from_records(shops, columns=labelsW)\n"
   ]
  },
  {
   "cell_type": "markdown",
   "metadata": {},
   "source": [
    "### Clean data\n",
    "#### Dianping"
   ]
  },
  {
   "cell_type": "code",
   "execution_count": 13,
   "metadata": {},
   "outputs": [],
   "source": [
    "# remove duplicate\n",
    "df_Dianping = df_Dianping.drop_duplicates(subset=['name'], keep='first')\n",
    "\n",
    "#concentrate on XuHui list\n",
    "df_Dianping = df_Dianping[['徐汇区' in cat for cat in df_Dianping['address']]]\n",
    "\n"
   ]
  },
  {
   "cell_type": "code",
   "execution_count": 14,
   "metadata": {},
   "outputs": [
    {
     "name": "stdout",
     "output_type": "stream",
     "text": [
      "31.00403221349404 121.16389285310815 31.655458578502852 121.79478477798658\n"
     ]
    }
   ],
   "source": [
    "#change coordinates format GCJ02 to WGS84\n",
    "df_Dianping['longitude'] = GCJ02toWGS84LNG(df_Dianping['longitude'], df_Dianping['latitude'])\n",
    "df_Dianping['latitude'] = GCJ02toWGS84LAT(df_Dianping['longitude'], df_Dianping['latitude'])\n",
    "\n",
    "df_Dianping= df_Dianping[(df_Dianping['latitude']>31) & (df_Dianping['longitude']>121)]\n",
    "\n",
    "min_lng = df_Dianping['longitude'].min()\n",
    "max_lng = df_Dianping['longitude'].max()\n",
    "min_lat = df_Dianping['latitude'].min()\n",
    "max_lat = df_Dianping['latitude'].max()\n",
    "\n",
    "print(min_lat, min_lng, max_lat, max_lng )"
   ]
  },
  {
   "cell_type": "code",
   "execution_count": 15,
   "metadata": {},
   "outputs": [],
   "source": [
    "#select the data\n",
    "df_Dianping_final = df_Dianping.drop(['address'], axis=1)"
   ]
  },
  {
   "cell_type": "code",
   "execution_count": 16,
   "metadata": {},
   "outputs": [],
   "source": [
    "df_Dianping_temp = df_Dianping_final[['熟食' in cat for cat in df_Dianping['category']]]\n",
    "df_Dianping_temp = df_Dianping_temp.append(df_Dianping_final[['小吃' in cat for cat in df_Dianping['category']]])\n",
    "df_Dianping_temp = df_Dianping_temp.append(df_Dianping_final[['寿司/简餐' in cat for cat in df_Dianping['category']]])\n",
    "df_Dianping_temp = df_Dianping_temp.append(df_Dianping_final[['小吃快餐' in cat for cat in df_Dianping['category']]])\n",
    "df_Dianping_temp = df_Dianping_temp.append(df_Dianping_final[['星巴克' in cat for cat in df_Dianping['category']]])\n",
    "df_Dianping_temp = df_Dianping_temp.append(df_Dianping_final[['酒吧' in cat for cat in df_Dianping['category']]])\n",
    "\n",
    "df_Dianping_final = df_Dianping_temp"
   ]
  },
  {
   "cell_type": "code",
   "execution_count": 17,
   "metadata": {},
   "outputs": [
    {
     "name": "stdout",
     "output_type": "stream",
     "text": [
      "31.02523926183565 121.3901985611001 31.310136303299014 121.50520099657118\n"
     ]
    }
   ],
   "source": [
    "min_lng = df_Dianping_final['longitude'].min()\n",
    "max_lng = df_Dianping_final['longitude'].max()\n",
    "min_lat = df_Dianping_final['latitude'].min()\n",
    "max_lat = df_Dianping_final['latitude'].max()\n",
    "\n",
    "print(min_lat, min_lng, max_lat, max_lng )"
   ]
  },
  {
   "cell_type": "code",
   "execution_count": 18,
   "metadata": {},
   "outputs": [],
   "source": [
    "#get the categories\n",
    "c_Dianping = df_Dianping.groupby('category').count()\n",
    "c_Dianping = c_Dianping[['name']]\n",
    "c_Dianping.columns = ['number']"
   ]
  },
  {
   "cell_type": "markdown",
   "metadata": {},
   "source": [
    "#### Weibo"
   ]
  },
  {
   "cell_type": "code",
   "execution_count": 19,
   "metadata": {},
   "outputs": [],
   "source": [
    "# remove duplicate\n",
    "df_Weibo = df_Weibo.drop_duplicates(subset=['name'], keep='first')\n",
    "\n",
    "#concentrate on XuHui list\n",
    "#no district in the address -> with dianping coo\n",
    "#df_Weibo = df_Weibo[['徐汇区' in cat for cat in df_Weibo['address']]]\n"
   ]
  },
  {
   "cell_type": "code",
   "execution_count": 20,
   "metadata": {},
   "outputs": [],
   "source": [
    "#change coordinates format GCJ02 to WGS84\n",
    "df_Weibo['longitude'] = GCJ02toWGS84LNG(df_Weibo['longitude'], df_Weibo['latitude'])\n",
    "df_Weibo['latitude'] = GCJ02toWGS84LAT(df_Weibo['longitude'], df_Weibo['latitude'])\n"
   ]
  },
  {
   "cell_type": "code",
   "execution_count": 21,
   "metadata": {},
   "outputs": [],
   "source": [
    "#select the data\n",
    "df_Weibo_final = df_Weibo[['shop' in cat for cat in df_Weibo['category']]]\n",
    "df_Weibo_final = df_Weibo_final[(df_Weibo_final['longitude'] < max_lng) & (df_Weibo_final['longitude'] > min_lng) & (df_Weibo_final['latitude'] < max_lat) & (df_Weibo_final['latitude'] > min_lat)]\n"
   ]
  },
  {
   "cell_type": "code",
   "execution_count": 22,
   "metadata": {},
   "outputs": [],
   "source": [
    "for i in range(19367):\n",
    "    df_Weibo_final['scores'].values[i] = df_Weibo_final['scores'].values[i].split(',')[0]\n",
    "    "
   ]
  },
  {
   "cell_type": "code",
   "execution_count": 23,
   "metadata": {},
   "outputs": [],
   "source": [
    "#get the categories\n",
    "c_Weibo = df_Weibo.groupby('category').count()\n",
    "c_Weibo = c_Weibo[['name']]\n",
    "c_Weibo.columns = ['number']"
   ]
  },
  {
   "cell_type": "markdown",
   "metadata": {},
   "source": [
    "### Make csv"
   ]
  },
  {
   "cell_type": "code",
   "execution_count": 25,
   "metadata": {},
   "outputs": [],
   "source": [
    "c_Dianping.to_csv('c_Dianping.csv', sep='\\t', encoding='utf-8')"
   ]
  },
  {
   "cell_type": "code",
   "execution_count": 27,
   "metadata": {},
   "outputs": [],
   "source": [
    "c_Weibo.to_csv('c_Weibo.csv', sep='\\t', encoding='utf-8')"
   ]
  },
  {
   "cell_type": "code",
   "execution_count": 28,
   "metadata": {},
   "outputs": [],
   "source": [
    "df_Weibo_final.to_csv('df_Weibo.csv', sep='\\t', encoding='utf-8')"
   ]
  },
  {
   "cell_type": "code",
   "execution_count": 29,
   "metadata": {},
   "outputs": [],
   "source": [
    "df_Dianping_final .to_csv('df_Dianping.csv', sep='\\t', encoding='utf-8')"
   ]
  },
  {
   "cell_type": "code",
   "execution_count": null,
   "metadata": {},
   "outputs": [],
   "source": [
    "df_final = df_Weibo_final \n",
    "df_final = df_final.append(df_Dianping_final, sort=True)\n"
   ]
  },
  {
   "cell_type": "code",
   "execution_count": 30,
   "metadata": {},
   "outputs": [
    {
     "ename": "NameError",
     "evalue": "name 'df_final' is not defined",
     "output_type": "error",
     "traceback": [
      "\u001b[1;31m---------------------------------------------------------------------------\u001b[0m",
      "\u001b[1;31mNameError\u001b[0m                                 Traceback (most recent call last)",
      "\u001b[1;32m<ipython-input-30-d4f66ad4b241>\u001b[0m in \u001b[0;36m<module>\u001b[1;34m()\u001b[0m\n\u001b[1;32m----> 1\u001b[1;33m \u001b[0mdf_final\u001b[0m\u001b[1;33m.\u001b[0m\u001b[0mto_csv\u001b[0m\u001b[1;33m(\u001b[0m\u001b[1;34m'df_final.csv'\u001b[0m\u001b[1;33m,\u001b[0m \u001b[0msep\u001b[0m\u001b[1;33m=\u001b[0m\u001b[1;34m'\\t'\u001b[0m\u001b[1;33m,\u001b[0m \u001b[0mencoding\u001b[0m\u001b[1;33m=\u001b[0m\u001b[1;34m'utf-8'\u001b[0m\u001b[1;33m)\u001b[0m\u001b[1;33m\u001b[0m\u001b[0m\n\u001b[0m",
      "\u001b[1;31mNameError\u001b[0m: name 'df_final' is not defined"
     ]
    }
   ],
   "source": [
    "df_final.to_csv('df_final.csv', sep='\\t', encoding='utf-8')"
   ]
  },
  {
   "cell_type": "code",
   "execution_count": null,
   "metadata": {},
   "outputs": [],
   "source": []
  },
  {
   "cell_type": "code",
   "execution_count": null,
   "metadata": {},
   "outputs": [],
   "source": []
  },
  {
   "cell_type": "code",
   "execution_count": null,
   "metadata": {},
   "outputs": [],
   "source": []
  }
 ],
 "metadata": {
  "kernelspec": {
   "display_name": "Python 3",
   "language": "python",
   "name": "python3"
  },
  "language_info": {
   "codemirror_mode": {
    "name": "ipython",
    "version": 3
   },
   "file_extension": ".py",
   "mimetype": "text/x-python",
   "name": "python",
   "nbconvert_exporter": "python",
   "pygments_lexer": "ipython3",
   "version": "3.7.0"
  }
 },
 "nbformat": 4,
 "nbformat_minor": 2
}
